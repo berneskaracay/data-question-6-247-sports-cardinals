{
 "cells": [
  {
   "cell_type": "code",
   "execution_count": 1,
   "metadata": {},
   "outputs": [],
   "source": [
    "import pandas as pd\n",
    "import json\n",
    "from collections import defaultdict\n",
    "import glob\n",
    "import re"
   ]
  },
  {
   "cell_type": "code",
   "execution_count": 3,
   "metadata": {},
   "outputs": [],
   "source": [
    "def parse_team(row):\n",
    "    if row.referrer is None: return None\n",
    "    team = re.search(r'247sports.com\\/nfl\\/([^/]+)\\/', row.referrer)\n",
    "    if team is None: return None\n",
    "    return team.group(1)"
   ]
  },
  {
   "cell_type": "code",
   "execution_count": 4,
   "metadata": {},
   "outputs": [],
   "source": [
    "guess = defaultdict(int)"
   ]
  },
  {
   "cell_type": "code",
   "execution_count": 6,
   "metadata": {},
   "outputs": [
    {
     "name": "stdout",
     "output_type": "stream",
     "text": [
      "20\n",
      "20\n",
      "22\n",
      "25\n",
      "27\n",
      "28\n",
      "28\n",
      "28\n",
      "28\n",
      "29\n",
      "29\n",
      "29\n",
      "29\n",
      "29\n",
      "30\n",
      "30\n",
      "30\n",
      "31\n",
      "31\n",
      "31\n",
      "32\n",
      "All teams found!\n"
     ]
    }
   ],
   "source": [
    "streams = glob.iglob('data/Stream*')\n",
    "while(len(guess.keys()) < 32):\n",
    "    file = open(next(streams))\n",
    "    text = file.read()\n",
    "    text = '[' + text + ']'\n",
    "    text = text.replace('}{', '},{')\n",
    "    \n",
    "    df = pd.read_json(text)\n",
    "    df['team'] = df.apply(parse_team, axis = 1)\n",
    "    by_team = df.loc[~df.team.isna(), ['team', 'siteKey']].groupby(['team', 'siteKey']).count().reset_index()\n",
    "    for row in by_team.iterrows():\n",
    "        guess[row[1].team] = row[1].siteKey\n",
    "    print(len(guess.keys()))\n",
    "print(\"All teams found!\")"
   ]
  },
  {
   "cell_type": "code",
   "execution_count": 7,
   "metadata": {},
   "outputs": [
    {
     "data": {
      "text/plain": [
       "defaultdict(int,\n",
       "            {'baltimore-ravens': 23855104,\n",
       "             'buffalo-bills': 23920640,\n",
       "             'carolina-panthers': 23986176,\n",
       "             'chicago-bears': 24051712,\n",
       "             'cleveland-browns': 24182784,\n",
       "             'dallas-cowboys': 24248320,\n",
       "             'detroit-lions': 24379392,\n",
       "             'green-bay-packers': 24444928,\n",
       "             'miami-dolphins': 24772608,\n",
       "             'minnesota-vikings': 24838144,\n",
       "             'new-england-patriots': 24903680,\n",
       "             'new-orleans-saints': 25624576,\n",
       "             'new-york-giants': 24969216,\n",
       "             'oakland-raiders': 25100288,\n",
       "             'philadelphia-eagles': 25165824,\n",
       "             'pittsburgh-steelers': 25231360,\n",
       "             'san-francisco-49ers': 25362432,\n",
       "             'seattle-seahawks': 2490368,\n",
       "             'tennessee-titans': 2097152,\n",
       "             'washington-redskins': 25493504,\n",
       "             'denver-broncos': 24313856,\n",
       "             'los-angeles-rams': 25427968,\n",
       "             'atlanta-falcons': 23789568,\n",
       "             'kansas-city-chiefs': 24707072,\n",
       "             'tampa-bay-buccaneers': 25690112,\n",
       "             'cincinnati-bengals': 24117248,\n",
       "             'houston-texans': 24510464,\n",
       "             'new-york-jets': 25034752,\n",
       "             'arizona-cardinals': 23724032,\n",
       "             'Washington-redskins': 25493504,\n",
       "             'indianapolis-colts': 24576000,\n",
       "             'jacksonville-jaguars': 24641536})"
      ]
     },
     "execution_count": 7,
     "metadata": {},
     "output_type": "execute_result"
    }
   ],
   "source": [
    "guess"
   ]
  },
  {
   "cell_type": "code",
   "execution_count": null,
   "metadata": {},
   "outputs": [],
   "source": []
  },
  {
   "cell_type": "code",
   "execution_count": null,
   "metadata": {},
   "outputs": [],
   "source": [
    "file = open('data/StreamToS3-5-2017-10-31-00-01-13-af140efc-2d93-4120-92e1-f26dc3300e9d')"
   ]
  },
  {
   "cell_type": "code",
   "execution_count": null,
   "metadata": {},
   "outputs": [],
   "source": [
    "# JSON-ify the input\n",
    "text = file.read()\n",
    "\n",
    "text = '[' + text + ']'\n",
    "\n",
    "text = text.replace('}{', '},{')"
   ]
  },
  {
   "cell_type": "code",
   "execution_count": null,
   "metadata": {},
   "outputs": [],
   "source": [
    "df = pd.read_json(text)"
   ]
  },
  {
   "cell_type": "code",
   "execution_count": null,
   "metadata": {},
   "outputs": [],
   "source": [
    "df['team'] = df.apply(parse_team, axis = 1)"
   ]
  },
  {
   "cell_type": "code",
   "execution_count": null,
   "metadata": {},
   "outputs": [],
   "source": [
    "df.loc[~df.team.isna(), ['team', 'siteKey']].groupby(['team', 'siteKey']).count().reset_index()"
   ]
  },
  {
   "cell_type": "code",
   "execution_count": null,
   "metadata": {},
   "outputs": [],
   "source": []
  },
  {
   "cell_type": "code",
   "execution_count": null,
   "metadata": {},
   "outputs": [],
   "source": []
  },
  {
   "cell_type": "code",
   "execution_count": null,
   "metadata": {},
   "outputs": [],
   "source": []
  },
  {
   "cell_type": "code",
   "execution_count": null,
   "metadata": {},
   "outputs": [],
   "source": [
    "def parse_domain(row):\n",
    "    if row.referrer is None: return None\n",
    "    if row.referrer.count('/') < 3: return re.search(r'\\/\\/([^/]+)', row.referrer).group(1)\n",
    "    return re.search(r'\\/\\/([^/]+)\\/', row.referrer).group(1)"
   ]
  },
  {
   "cell_type": "code",
   "execution_count": null,
   "metadata": {},
   "outputs": [],
   "source": [
    "df['referrer_domain'] = df.apply(parse_domain, axis = 1)"
   ]
  },
  {
   "cell_type": "code",
   "execution_count": null,
   "metadata": {},
   "outputs": [],
   "source": [
    "df.groupby('referrer_domain').referrer_domain.count()"
   ]
  }
 ],
 "metadata": {
  "kernelspec": {
   "display_name": "Python 3",
   "language": "python",
   "name": "python3"
  },
  "language_info": {
   "codemirror_mode": {
    "name": "ipython",
    "version": 3
   },
   "file_extension": ".py",
   "mimetype": "text/x-python",
   "name": "python",
   "nbconvert_exporter": "python",
   "pygments_lexer": "ipython3",
   "version": "3.6.5"
  }
 },
 "nbformat": 4,
 "nbformat_minor": 2
}
